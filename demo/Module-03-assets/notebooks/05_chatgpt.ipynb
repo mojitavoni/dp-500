{
  "cells": [
    {
      "cell_type": "markdown",
      "source": [
        "# Sentiment review (fake) restaurant reviews using Synapse and ChatGPT\r\n",
        "\r\n",
        "This notebook is based on an article and video from Thomas Costers and Stijn Wynants\r\n",
        "\r\n",
        "- https://techcommunity.microsoft.com/t5/azure-synapse-analytics-blog/using-openai-gpt-in-synapse-analytics/ba-p/3751815\r\n",
        "- https://www.youtube.com/watch?v=CY4dAWvh60M\r\n",
        "\r\n",
        "One of the SynapseML’s capabilities is providing simple APIs for pre-built intelligent services, such as Azure cognitive services. Azure OpenAI is part of the cognitive services stack, making it accessible from within Synapse Spark pools. In order to use the Azure OpenAI in Synapse Spark, we’ll be using three components. The setup of these components is out of scope for this article.\r\n",
        "\r\n",
        "- A Synapse Analytics workspace with a Spark Pool\r\n",
        "- An Azure OpenAI cognitive service with text-davinci-003 model deployed\r\n",
        "- Azure Key vault to store the OpenAI API key\r\n",
        "\r\n",
        "Use the [Azure OpenAI Studio playground](https://oai.azure.com/portal/playground) to test the following prompt\r\n",
        "\r\n",
        "```json\r\n",
        "Generate a json containing a restaurant review. Use the following json structure: \r\n",
        "{\r\n",
        "    \"restaurant\": \"\",\r\n",
        "    \"review\": \"\"\r\n",
        "}\r\n",
        "````"
      ],
      "metadata": {
        "nteract": {
          "transient": {
            "deleting": false
          }
        }
      }
    },
    {
      "cell_type": "markdown",
      "source": [
        "The following code is applicable For Spark3.2 pool. SynapseML can be conveniently installed on Synapse using this piece of configuration"
      ],
      "metadata": {
        "nteract": {
          "transient": {
            "deleting": false
          }
        }
      }
    },
    {
      "cell_type": "code",
      "source": [
        "%%configure -f\r\n",
        "{\r\n",
        "  \"name\": \"synapseml\",\r\n",
        "  \"conf\": {\r\n",
        "      \"spark.jars.packages\": \"com.microsoft.azure:synapseml_2.12:0.11.0,org.apache.spark:spark-avro_2.12:3.3.1\",\r\n",
        "      \"spark.jars.repositories\": \"https://mmlspark.azureedge.net/maven\",\r\n",
        "      \"spark.jars.excludes\": \"org.scala-lang:scala-reflect,org.apache.spark:spark-tags_2.12,org.scalactic:scalactic_2.12,org.scalatest:scalatest_2.12,com.fasterxml.jackson.core:jackson-databind\",\r\n",
        "      \"spark.yarn.user.classpath.first\": \"true\",\r\n",
        "      \"spark.sql.parquet.enableVectorizedReader\": \"false\",\r\n",
        "      \"spark.sql.legacy.replaceDatabricksSparkAvro.enabled\": \"true\"\r\n",
        "  }\r\n",
        "}"
      ],
      "outputs": [
        {
          "output_type": "display_data",
          "data": {
            "application/vnd.livy.statement-meta+json": {
              "spark_pool": null,
              "session_id": "2",
              "statement_id": -1,
              "state": "finished",
              "livy_statement_state": "available",
              "queued_time": "2023-03-09T10:29:31.9556306Z",
              "session_start_time": "2023-03-09T10:29:32.0317609Z",
              "execution_start_time": "2023-03-09T10:30:29.2528221Z",
              "execution_finish_time": "2023-03-09T10:30:29.2530807Z",
              "spark_jobs": null,
              "parent_msg_id": "cad1ce6b-f618-4436-8d9f-422bd5bf2134"
            },
            "text/plain": "StatementMeta(, 2, -1, Finished, Available)"
          },
          "metadata": {}
        }
      ],
      "execution_count": 22,
      "metadata": {
        "jupyter": {
          "source_hidden": false,
          "outputs_hidden": false
        },
        "nteract": {
          "transient": {
            "deleting": false
          }
        }
      }
    },
    {
      "cell_type": "markdown",
      "source": [
        "## Generate fake reviews, using ChatGPT\r\n",
        "\r\n",
        "Now we will genrate 5 reviews. We first create a set of prompts for the number of reviews we want to generate"
      ],
      "metadata": {
        "nteract": {
          "transient": {
            "deleting": false
          }
        }
      }
    },
    {
      "cell_type": "code",
      "source": [
        "from synapse.ml.core.platform import running_on_synapse, find_secret\r\n",
        "from pyspark.sql.types import *\r\n",
        "from pyspark.sql.functions import *\r\n",
        "from synapse.ml.cognitive import OpenAICompletion\r\n",
        "\r\n",
        "key = find_secret(\"openaikey\", \"keyvault-weslbo\")  # replace this with your secret and keyvault\r\n",
        "nrOfReviews = 5\r\n",
        "\r\n",
        "completion = (\r\n",
        "    OpenAICompletion()\r\n",
        "    .setSubscriptionKey(key)\r\n",
        "    .setDeploymentName(\"text-davinci-003\")\r\n",
        "    .setUrl(\"https://openai-wedebols-3.openai.azure.com/\")\r\n",
        "    .setMaxTokens(2048)\r\n",
        "    .setPromptCol(\"prompt\")\r\n",
        "    .setErrorCol(\"error\")\r\n",
        "    .setOutputCol(\"response\")\r\n",
        ")\r\n",
        "\r\n",
        "def generateRestaurantPrompt() -> str:\r\n",
        "    return \"Generate a json containing a restaurant review. Use the following json structure: {\\\"restaurant\\\": \\\"\\\",\\\"review\\\": \\\"\\\"}\"\r\n",
        "generateRestaurantPrompt_udf = udf(lambda: generateRestaurantPrompt(), StringType())\r\n",
        "\r\n",
        "df_prompts = spark.range(1, nrOfReviews+1) \\\r\n",
        "    .withColumnRenamed(\"restaurant\", \"review\") \\\r\n",
        "    .withColumn(\"prompt\", generateRestaurantPrompt_udf())\r\n",
        "\r\n",
        "display(df_prompts)"
      ],
      "outputs": [
        {
          "output_type": "display_data",
          "data": {
            "application/vnd.livy.statement-meta+json": {
              "spark_pool": "sparkpool",
              "session_id": "2",
              "statement_id": 7,
              "state": "finished",
              "livy_statement_state": "available",
              "queued_time": "2023-03-09T10:35:11.8028381Z",
              "session_start_time": null,
              "execution_start_time": "2023-03-09T10:35:11.9420165Z",
              "execution_finish_time": "2023-03-09T10:35:12.5469487Z",
              "spark_jobs": null,
              "parent_msg_id": "8686065b-a078-4632-bfe1-e5968c41a1f6"
            },
            "text/plain": "StatementMeta(sparkpool, 2, 7, Finished, Available)"
          },
          "metadata": {}
        },
        {
          "output_type": "display_data",
          "data": {
            "application/vnd.synapse.widget-view+json": {
              "widget_id": "314fdd91-aa23-4fc7-a988-f6f40edc2ee1",
              "widget_type": "Synapse.DataFrame"
            },
            "text/plain": "SynapseWidget(Synapse.DataFrame, 314fdd91-aa23-4fc7-a988-f6f40edc2ee1)"
          },
          "metadata": {}
        }
      ],
      "execution_count": 29,
      "metadata": {
        "jupyter": {
          "source_hidden": false,
          "outputs_hidden": false
        },
        "nteract": {
          "transient": {
            "deleting": false
          }
        },
        "collapsed": false
      }
    },
    {
      "cell_type": "markdown",
      "source": [
        "Then, we will call the OpenAI service and get the actual (fake) reviews"
      ],
      "metadata": {
        "nteract": {
          "transient": {
            "deleting": false
          }
        }
      }
    },
    {
      "cell_type": "code",
      "source": [
        "df_reviews_json = completion.transform(df_prompts).cache() \\\r\n",
        "    .select(\r\n",
        "        col(\"id\"),\r\n",
        "        col(\"prompt\"),\r\n",
        "        col(\"error\"),\r\n",
        "        col(\"response.choices.text\").getItem(0).alias(\"json\")\r\n",
        "    )\r\n",
        "\r\n",
        "display(df_reviews_json)"
      ],
      "outputs": [
        {
          "output_type": "display_data",
          "data": {
            "application/vnd.livy.statement-meta+json": {
              "spark_pool": "sparkpool",
              "session_id": "2",
              "statement_id": 8,
              "state": "finished",
              "livy_statement_state": "available",
              "queued_time": "2023-03-09T10:35:20.1297404Z",
              "session_start_time": null,
              "execution_start_time": "2023-03-09T10:35:20.2660595Z",
              "execution_finish_time": "2023-03-09T10:35:29.2162167Z",
              "spark_jobs": null,
              "parent_msg_id": "cc1233c5-f48d-4f87-a09c-540648472aaf"
            },
            "text/plain": "StatementMeta(sparkpool, 2, 8, Finished, Available)"
          },
          "metadata": {}
        },
        {
          "output_type": "display_data",
          "data": {
            "application/vnd.synapse.widget-view+json": {
              "widget_id": "de79d48f-e5ba-437c-8647-5d00f3c50f20",
              "widget_type": "Synapse.DataFrame"
            },
            "text/plain": "SynapseWidget(Synapse.DataFrame, de79d48f-e5ba-437c-8647-5d00f3c50f20)"
          },
          "metadata": {}
        }
      ],
      "execution_count": 30,
      "metadata": {
        "jupyter": {
          "source_hidden": false,
          "outputs_hidden": false
        },
        "nteract": {
          "transient": {
            "deleting": false
          }
        },
        "collapsed": false
      }
    },
    {
      "cell_type": "markdown",
      "source": [
        "Since we get json data back, we have to apply some schema to it and retrieve the actual Restaurant Name and Review text."
      ],
      "metadata": {
        "nteract": {
          "transient": {
            "deleting": false
          }
        }
      }
    },
    {
      "cell_type": "code",
      "source": [
        "schema = StructType([ \\\r\n",
        "    StructField(\"restaurant\", StringType(), False), \\\r\n",
        "    StructField(\"review\", StringType(), False) \\\r\n",
        "])\r\n",
        "\r\n",
        "df_reviews_table = df_reviews_json.withColumn(\"json\", from_json(col(\"json\"), schema)) \\\r\n",
        "    .select(col(\"id\"), col(\"json.*\"), col(\"error\"))\r\n",
        "\r\n",
        "display(df_reviews_table)\r\n"
      ],
      "outputs": [
        {
          "output_type": "display_data",
          "data": {
            "application/vnd.livy.statement-meta+json": {
              "spark_pool": "sparkpool",
              "session_id": "2",
              "statement_id": 9,
              "state": "finished",
              "livy_statement_state": "available",
              "queued_time": "2023-03-09T10:35:43.2488815Z",
              "session_start_time": null,
              "execution_start_time": "2023-03-09T10:35:43.4159466Z",
              "execution_finish_time": "2023-03-09T10:35:44.0451767Z",
              "spark_jobs": null,
              "parent_msg_id": "6e84e1f4-2356-4edf-b72f-69007e60bc7f"
            },
            "text/plain": "StatementMeta(sparkpool, 2, 9, Finished, Available)"
          },
          "metadata": {}
        },
        {
          "output_type": "display_data",
          "data": {
            "application/vnd.synapse.widget-view+json": {
              "widget_id": "8cd0aae6-964c-43c6-866c-8d5cc576ce51",
              "widget_type": "Synapse.DataFrame"
            },
            "text/plain": "SynapseWidget(Synapse.DataFrame, 8cd0aae6-964c-43c6-866c-8d5cc576ce51)"
          },
          "metadata": {}
        }
      ],
      "execution_count": 31,
      "metadata": {
        "jupyter": {
          "source_hidden": false,
          "outputs_hidden": false
        },
        "nteract": {
          "transient": {
            "deleting": false
          }
        },
        "collapsed": false
      }
    },
    {
      "cell_type": "markdown",
      "source": [
        "## Detect sentiment\r\n",
        "\r\n",
        "Now that we have are restaurants and reviews, it's time to detect the sentiment. Again, we can use the OpenAI playground to test our prompt \r\n",
        "\r\n",
        "```text\r\n",
        "Classify the sentiment of following restaurant review.\r\n",
        "Classifications: [Positive, Negative, Neutral]\r\n",
        "Review: \"\"\"The food here is so delicious. The crepes are made to perfection and the servers are so friendly and helpful. I highly recommend it!\"\"\"\r\n",
        "Classification:\r\n",
        "``` \r\n",
        "\r\n",
        "When we are ready we the prompt, it's time to generate the prompt within our dataset."
      ],
      "metadata": {
        "nteract": {
          "transient": {
            "deleting": false
          }
        }
      }
    },
    {
      "cell_type": "code",
      "source": [
        "def generateSentimentPrompt(s: str) -> str:\r\n",
        "    return \"Classify the sentiment of following restaurant review.\\nClassifications: [Positive, Negative, Neutral]\\nReview: \" + s +\"\\nClassification:\"\r\n",
        "generateSentimentPrompt_udf = udf(lambda s: generateSentimentPrompt(s), StringType())\r\n",
        "\r\n",
        "df_sentiment_prompt = df_reviews_table.withColumn(\"prompt\", generateSentimentPrompt_udf(col(\"review\")))\r\n",
        "display(df_sentiment_prompt)"
      ],
      "outputs": [
        {
          "output_type": "display_data",
          "data": {
            "application/vnd.livy.statement-meta+json": {
              "spark_pool": "sparkpool",
              "session_id": "2",
              "statement_id": 10,
              "state": "finished",
              "livy_statement_state": "available",
              "queued_time": "2023-03-09T10:35:49.3661785Z",
              "session_start_time": null,
              "execution_start_time": "2023-03-09T10:35:49.547091Z",
              "execution_finish_time": "2023-03-09T10:35:51.5167849Z",
              "spark_jobs": null,
              "parent_msg_id": "b7b3d99e-53e5-4419-a432-4e6cf87fa1dd"
            },
            "text/plain": "StatementMeta(sparkpool, 2, 10, Finished, Available)"
          },
          "metadata": {}
        },
        {
          "output_type": "display_data",
          "data": {
            "application/vnd.synapse.widget-view+json": {
              "widget_id": "e3795a84-6437-499a-93ac-f05f80adc8a0",
              "widget_type": "Synapse.DataFrame"
            },
            "text/plain": "SynapseWidget(Synapse.DataFrame, e3795a84-6437-499a-93ac-f05f80adc8a0)"
          },
          "metadata": {}
        }
      ],
      "execution_count": 32,
      "metadata": {
        "jupyter": {
          "source_hidden": false,
          "outputs_hidden": false
        },
        "nteract": {
          "transient": {
            "deleting": false
          }
        },
        "collapsed": false
      }
    },
    {
      "cell_type": "markdown",
      "source": [
        "Now, we apply the transformation. This is where the actual call happens towards OpenAI api"
      ],
      "metadata": {
        "nteract": {
          "transient": {
            "deleting": false
          }
        }
      }
    },
    {
      "cell_type": "code",
      "source": [
        "df_sentiment_json = completion.transform(df_sentiment_prompt).cache() \\\r\n",
        "    .select(\r\n",
        "        col(\"id\"),\r\n",
        "        col(\"restaurant\"),\r\n",
        "        col(\"review\"),\r\n",
        "        col(\"response.choices.text\").getItem(0).alias(\"sentiment\")\r\n",
        "    )\r\n",
        "\r\n",
        "display(df_sentiment_json)\r\n"
      ],
      "outputs": [
        {
          "output_type": "display_data",
          "data": {
            "application/vnd.livy.statement-meta+json": {
              "spark_pool": "sparkpool",
              "session_id": "2",
              "statement_id": 11,
              "state": "finished",
              "livy_statement_state": "available",
              "queued_time": "2023-03-09T10:36:07.7674691Z",
              "session_start_time": null,
              "execution_start_time": "2023-03-09T10:36:07.9160493Z",
              "execution_finish_time": "2023-03-09T10:36:15.3253326Z",
              "spark_jobs": null,
              "parent_msg_id": "d974513c-aabe-4b67-bd37-c6cac7b7daa8"
            },
            "text/plain": "StatementMeta(sparkpool, 2, 11, Finished, Available)"
          },
          "metadata": {}
        },
        {
          "output_type": "display_data",
          "data": {
            "application/vnd.synapse.widget-view+json": {
              "widget_id": "e7975c0b-3ca3-4fac-993c-1501f6c6db33",
              "widget_type": "Synapse.DataFrame"
            },
            "text/plain": "SynapseWidget(Synapse.DataFrame, e7975c0b-3ca3-4fac-993c-1501f6c6db33)"
          },
          "metadata": {}
        }
      ],
      "execution_count": 33,
      "metadata": {
        "jupyter": {
          "source_hidden": false,
          "outputs_hidden": false
        },
        "nteract": {
          "transient": {
            "deleting": false
          }
        },
        "collapsed": false
      }
    },
    {
      "cell_type": "markdown",
      "source": [
        "Review the output above!\r\n",
        "\r\n",
        "Todo:\r\n",
        "1. Make sure quotes are properly handled (otherwise you get 'undefined')\r\n",
        "2. I only get positive sentiment... Probably need to tweak the openai deployment model...."
      ],
      "metadata": {
        "nteract": {
          "transient": {
            "deleting": false
          }
        }
      }
    }
  ],
  "metadata": {
    "kernelspec": {
      "name": "synapse_pyspark",
      "language": "Python",
      "display_name": "Synapse PySpark"
    },
    "language_info": {
      "name": "python"
    },
    "kernel_info": {
      "name": "synapse_pyspark"
    },
    "save_output": true,
    "synapse_widget": {
      "version": "0.1",
      "state": {
        "314fdd91-aa23-4fc7-a988-f6f40edc2ee1": {
          "type": "Synapse.DataFrame",
          "sync_state": {
            "table": {
              "rows": [
                {
                  "0": "1",
                  "1": "Generate a json containing a restaurant review. Use the following json structure: {\"restaurant\": \"\",\"review\": \"\"}"
                },
                {
                  "0": "2",
                  "1": "Generate a json containing a restaurant review. Use the following json structure: {\"restaurant\": \"\",\"review\": \"\"}"
                },
                {
                  "0": "3",
                  "1": "Generate a json containing a restaurant review. Use the following json structure: {\"restaurant\": \"\",\"review\": \"\"}"
                },
                {
                  "0": "4",
                  "1": "Generate a json containing a restaurant review. Use the following json structure: {\"restaurant\": \"\",\"review\": \"\"}"
                },
                {
                  "0": "5",
                  "1": "Generate a json containing a restaurant review. Use the following json structure: {\"restaurant\": \"\",\"review\": \"\"}"
                }
              ],
              "schema": [
                {
                  "key": "0",
                  "name": "id",
                  "type": "bigint"
                },
                {
                  "key": "1",
                  "name": "prompt",
                  "type": "string"
                }
              ],
              "truncated": false
            },
            "isSummary": false,
            "language": "scala"
          },
          "persist_state": {
            "view": {
              "type": "details",
              "tableOptions": {},
              "chartOptions": {
                "chartType": "bar",
                "aggregationType": "sum",
                "categoryFieldKeys": [
                  "1"
                ],
                "seriesFieldKeys": [
                  "0"
                ],
                "isStacked": false
              }
            }
          }
        },
        "de79d48f-e5ba-437c-8647-5d00f3c50f20": {
          "type": "Synapse.DataFrame",
          "sync_state": {
            "table": {
              "rows": [
                {
                  "0": "1",
                  "1": "Generate a json containing a restaurant review. Use the following json structure: {\"restaurant\": \"\",\"review\": \"\"}",
                  "3": "\n\n{\"restaurant\": \"Taco Bell\", \"review\": \"Taco Bell's food was delicious and the service was excellent. Their staff were very friendly and welcoming. I would definitely go back again!\"}"
                },
                {
                  "0": "2",
                  "1": "Generate a json containing a restaurant review. Use the following json structure: {\"restaurant\": \"\",\"review\": \"\"}",
                  "3": "\n\n{\"restaurant\": \"The Grill Room\", \"review\": \"I had a great experience at The Grill Room. The food was amazing and the service was excellent. Highly recommend!\"}"
                },
                {
                  "0": "3",
                  "1": "Generate a json containing a restaurant review. Use the following json structure: {\"restaurant\": \"\",\"review\": \"\"}",
                  "3": "\n\n{\"restaurant\": \"Big Al's Burgers\", \"review\": \"I had one of the best burgers I've ever eaten at Big Al's Burgers. The patties were juicy and cooked to perfection. The fries were perfectly crisp and just the right amount of salty. Highly recommend!\"}"
                },
                {
                  "0": "4",
                  "1": "Generate a json containing a restaurant review. Use the following json structure: {\"restaurant\": \"\",\"review\": \"\"}",
                  "3": "\n\n{\"restaurant\": \"The Cheesecake Factory\", \"review\": \"The food was delicious and the cheesecake was simply amazing - definitely worth a visit!\"}"
                },
                {
                  "0": "5",
                  "1": "Generate a json containing a restaurant review. Use the following json structure: {\"restaurant\": \"\",\"review\": \"\"}",
                  "3": "\n\n{\n    \"restaurant\": \"The Green Gourmet\",\n    \"review\": \"I had the best eating experience at The Green Gourmet. Their vegan dishes are to die for and the staff are always friendly and helpful!\"\n}"
                }
              ],
              "schema": [
                {
                  "key": "0",
                  "name": "id",
                  "type": "bigint"
                },
                {
                  "key": "1",
                  "name": "prompt",
                  "type": "string"
                },
                {
                  "key": "2",
                  "name": "error",
                  "type": "StructType(StructField(response,StringType,true), StructField(status,StructType(StructField(protocolVersion,StructType(StructField(protocol,StringType,true), StructField(major,IntegerType,false), StructField(minor,IntegerType,false)),true), StructField(statusCode,IntegerType,false), StructField(reasonPhrase,StringType,true)),true))"
                },
                {
                  "key": "3",
                  "name": "json",
                  "type": "string"
                }
              ],
              "truncated": false
            },
            "isSummary": false,
            "language": "scala"
          },
          "persist_state": {
            "view": {
              "type": "details",
              "tableOptions": {},
              "chartOptions": {
                "chartType": "bar",
                "aggregationType": "sum",
                "categoryFieldKeys": [
                  "1"
                ],
                "seriesFieldKeys": [
                  "0"
                ],
                "isStacked": false
              }
            }
          }
        },
        "8cd0aae6-964c-43c6-866c-8d5cc576ce51": {
          "type": "Synapse.DataFrame",
          "sync_state": {
            "table": {
              "rows": [
                {
                  "0": "1",
                  "1": "Taco Bell",
                  "2": "Taco Bell's food was delicious and the service was excellent. Their staff were very friendly and welcoming. I would definitely go back again!"
                },
                {
                  "0": "2",
                  "1": "The Grill Room",
                  "2": "I had a great experience at The Grill Room. The food was amazing and the service was excellent. Highly recommend!"
                },
                {
                  "0": "3",
                  "1": "Big Al's Burgers",
                  "2": "I had one of the best burgers I've ever eaten at Big Al's Burgers. The patties were juicy and cooked to perfection. The fries were perfectly crisp and just the right amount of salty. Highly recommend!"
                },
                {
                  "0": "4",
                  "1": "The Cheesecake Factory",
                  "2": "The food was delicious and the cheesecake was simply amazing - definitely worth a visit!"
                },
                {
                  "0": "5",
                  "1": "The Green Gourmet",
                  "2": "I had the best eating experience at The Green Gourmet. Their vegan dishes are to die for and the staff are always friendly and helpful!"
                }
              ],
              "schema": [
                {
                  "key": "0",
                  "name": "id",
                  "type": "bigint"
                },
                {
                  "key": "1",
                  "name": "restaurant",
                  "type": "string"
                },
                {
                  "key": "2",
                  "name": "review",
                  "type": "string"
                },
                {
                  "key": "3",
                  "name": "error",
                  "type": "StructType(StructField(response,StringType,true), StructField(status,StructType(StructField(protocolVersion,StructType(StructField(protocol,StringType,true), StructField(major,IntegerType,false), StructField(minor,IntegerType,false)),true), StructField(statusCode,IntegerType,false), StructField(reasonPhrase,StringType,true)),true))"
                }
              ],
              "truncated": false
            },
            "isSummary": false,
            "language": "scala"
          },
          "persist_state": {
            "view": {
              "type": "details",
              "tableOptions": {},
              "chartOptions": {
                "chartType": "bar",
                "aggregationType": "sum",
                "categoryFieldKeys": [
                  "1"
                ],
                "seriesFieldKeys": [
                  "0"
                ],
                "isStacked": false
              }
            }
          }
        },
        "e3795a84-6437-499a-93ac-f05f80adc8a0": {
          "type": "Synapse.DataFrame",
          "sync_state": {
            "table": {
              "rows": [
                {
                  "0": "1",
                  "1": "Taco Bell",
                  "2": "Taco Bell's food was delicious and the service was excellent. Their staff were very friendly and welcoming. I would definitely go back again!",
                  "4": "Classify the sentiment of following restaurant review.\nClassifications: [Positive, Negative, Neutral]\nReview: Taco Bell's food was delicious and the service was excellent. Their staff were very friendly and welcoming. I would definitely go back again!\nClassification:"
                },
                {
                  "0": "2",
                  "1": "The Grill Room",
                  "2": "I had a great experience at The Grill Room. The food was amazing and the service was excellent. Highly recommend!",
                  "4": "Classify the sentiment of following restaurant review.\nClassifications: [Positive, Negative, Neutral]\nReview: I had a great experience at The Grill Room. The food was amazing and the service was excellent. Highly recommend!\nClassification:"
                },
                {
                  "0": "3",
                  "1": "Big Al's Burgers",
                  "2": "I had one of the best burgers I've ever eaten at Big Al's Burgers. The patties were juicy and cooked to perfection. The fries were perfectly crisp and just the right amount of salty. Highly recommend!",
                  "4": "Classify the sentiment of following restaurant review.\nClassifications: [Positive, Negative, Neutral]\nReview: I had one of the best burgers I've ever eaten at Big Al's Burgers. The patties were juicy and cooked to perfection. The fries were perfectly crisp and just the right amount of salty. Highly recommend!\nClassification:"
                },
                {
                  "0": "4",
                  "1": "The Cheesecake Factory",
                  "2": "The food was delicious and the cheesecake was simply amazing - definitely worth a visit!",
                  "4": "Classify the sentiment of following restaurant review.\nClassifications: [Positive, Negative, Neutral]\nReview: The food was delicious and the cheesecake was simply amazing - definitely worth a visit!\nClassification:"
                },
                {
                  "0": "5",
                  "1": "The Green Gourmet",
                  "2": "I had the best eating experience at The Green Gourmet. Their vegan dishes are to die for and the staff are always friendly and helpful!",
                  "4": "Classify the sentiment of following restaurant review.\nClassifications: [Positive, Negative, Neutral]\nReview: I had the best eating experience at The Green Gourmet. Their vegan dishes are to die for and the staff are always friendly and helpful!\nClassification:"
                }
              ],
              "schema": [
                {
                  "key": "0",
                  "name": "id",
                  "type": "bigint"
                },
                {
                  "key": "1",
                  "name": "restaurant",
                  "type": "string"
                },
                {
                  "key": "2",
                  "name": "review",
                  "type": "string"
                },
                {
                  "key": "3",
                  "name": "error",
                  "type": "StructType(StructField(response,StringType,true), StructField(status,StructType(StructField(protocolVersion,StructType(StructField(protocol,StringType,true), StructField(major,IntegerType,false), StructField(minor,IntegerType,false)),true), StructField(statusCode,IntegerType,false), StructField(reasonPhrase,StringType,true)),true))"
                },
                {
                  "key": "4",
                  "name": "prompt",
                  "type": "string"
                }
              ],
              "truncated": false
            },
            "isSummary": false,
            "language": "scala"
          },
          "persist_state": {
            "view": {
              "type": "details",
              "tableOptions": {},
              "chartOptions": {
                "chartType": "bar",
                "aggregationType": "sum",
                "categoryFieldKeys": [
                  "1"
                ],
                "seriesFieldKeys": [
                  "0"
                ],
                "isStacked": false
              }
            }
          }
        },
        "e7975c0b-3ca3-4fac-993c-1501f6c6db33": {
          "type": "Synapse.DataFrame",
          "sync_state": {
            "table": {
              "rows": [
                {
                  "0": "1",
                  "1": "Taco Bell",
                  "2": "Taco Bell's food was delicious and the service was excellent. Their staff were very friendly and welcoming. I would definitely go back again!",
                  "3": " Positive"
                },
                {
                  "0": "2",
                  "1": "The Grill Room",
                  "2": "I had a great experience at The Grill Room. The food was amazing and the service was excellent. Highly recommend!",
                  "3": " Positive"
                },
                {
                  "0": "3",
                  "1": "Big Al's Burgers",
                  "2": "I had one of the best burgers I've ever eaten at Big Al's Burgers. The patties were juicy and cooked to perfection. The fries were perfectly crisp and just the right amount of salty. Highly recommend!",
                  "3": " Positive"
                },
                {
                  "0": "4",
                  "1": "The Cheesecake Factory",
                  "2": "The food was delicious and the cheesecake was simply amazing - definitely worth a visit!",
                  "3": " Positive"
                },
                {
                  "0": "5",
                  "1": "The Green Gourmet",
                  "2": "I had the best eating experience at The Green Gourmet. Their vegan dishes are to die for and the staff are always friendly and helpful!",
                  "3": " Positive"
                }
              ],
              "schema": [
                {
                  "key": "0",
                  "name": "id",
                  "type": "bigint"
                },
                {
                  "key": "1",
                  "name": "restaurant",
                  "type": "string"
                },
                {
                  "key": "2",
                  "name": "review",
                  "type": "string"
                },
                {
                  "key": "3",
                  "name": "sentiment",
                  "type": "string"
                }
              ],
              "truncated": false
            },
            "isSummary": false,
            "language": "scala"
          },
          "persist_state": {
            "view": {
              "type": "details",
              "tableOptions": {},
              "chartOptions": {
                "chartType": "bar",
                "aggregationType": "sum",
                "categoryFieldKeys": [
                  "1"
                ],
                "seriesFieldKeys": [
                  "0"
                ],
                "isStacked": false
              }
            }
          }
        }
      }
    }
  },
  "nbformat": 4,
  "nbformat_minor": 2
}