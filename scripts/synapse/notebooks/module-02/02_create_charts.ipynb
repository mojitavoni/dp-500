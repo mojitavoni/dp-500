{
  "nbformat": 4,
  "nbformat_minor": 2,
  "metadata": {
    "kernelspec": {
      "name": "synapse_pyspark",
      "display_name": "Synapse PySpark"
    },
    "language_info": {
      "name": "python"
    },
    "save_output": true,
    "synapse_widget": {
      "version": "0.1",
      "state": {}
    }
  },
  "cells": [
    {
      "cell_type": "markdown",
      "metadata": {
        "nteract": {
          "transient": {
            "deleting": false
          }
        }
      },
      "source": [
        "# Module 02 - 02 Create charts using Spark\r\n",
        "\r\n",
        "Set up variable for later reference. Make sure the name of your datalake is correct"
      ]
    },
    {
      "cell_type": "code",
      "execution_count": 41,
      "outputs": [],
      "metadata": {
        "jupyter": {
          "source_hidden": false,
          "outputs_hidden": false
        },
        "nteract": {
          "transient": {
            "deleting": false
          }
        }
      },
      "source": [
        "from pyspark.sql import types\r\n",
        "\r\n",
        "datalake = 'datalake3mstaeetovkk4'\r\n",
        "\r\n",
        "customSchema = types.StructType([\r\n",
        "    types.StructField(\"SalesOrderNumber\", types.StringType(), True),\r\n",
        "    types.StructField(\"SalesTerritoryKey\", types.IntegerType(), True),\r\n",
        "    types.StructField(\"OrderDate\", types.DateType(), True),\r\n",
        "    types.StructField(\"Customer\", types.StringType(), True),\r\n",
        "    types.StructField(\"Email\", types.StringType(), True),\r\n",
        "    types.StructField(\"Adress\", types.StringType(), True),\r\n",
        "    types.StructField(\"Quantity\", types.IntegerType(), True),\r\n",
        "    types.StructField(\"UnitPrice\", types.DoubleType(), True),\r\n",
        "    types.StructField(\"ShippingCost\", types.DoubleType(), True),\r\n",
        "])\r\n",
        "\r\n",
        "df = spark.read \\\r\n",
        "    .csv('abfss://landing@' + datalake + '.dfs.core.windows.net/Allfiles/01/data/*.csv', schema=customSchema)\r\n",
        "df.createOrReplaceTempView(\"sales\")"
      ]
    },
    {
      "cell_type": "markdown",
      "metadata": {
        "nteract": {
          "transient": {
            "deleting": false
          }
        }
      },
      "source": [
        "Execute the following Spark SQL And explore the **Chart** feature"
      ]
    },
    {
      "cell_type": "code",
      "execution_count": 42,
      "outputs": [],
      "metadata": {
        "jupyter": {
          "source_hidden": false,
          "outputs_hidden": false
        },
        "nteract": {
          "transient": {
            "deleting": false
          }
        },
        "microsoft": {
          "language": "sparksql"
        },
        "collapsed": false
      },
      "source": [
        "%%sql\r\n",
        "\r\n",
        "SELECT \r\n",
        "    OrderDate,\r\n",
        "    SUM( (Quantity * UnitPrice) + ShippingCost ) AS TotalSales\r\n",
        "FROM Sales\r\n",
        "GROUP BY OrderDate\r\n",
        "ORDER BY OrderDate\r\n",
        "LIMIT 50"
      ]
    },
    {
      "cell_type": "markdown",
      "metadata": {
        "nteract": {
          "transient": {
            "deleting": false
          }
        }
      },
      "source": [
        "Let's create some chart using MATPLOTLIB"
      ]
    },
    {
      "cell_type": "code",
      "execution_count": 43,
      "outputs": [],
      "metadata": {
        "jupyter": {
          "source_hidden": false,
          "outputs_hidden": false
        },
        "nteract": {
          "transient": {
            "deleting": false
          }
        }
      },
      "source": [
        "from matplotlib import pyplot as plt\r\n",
        "\r\n",
        "totalOrdersByTerritory = sqlContext.sql(\"SELECT SalesTerritoryKey, COUNT(*) as TotalOrders \\\r\n",
        "                                         FROM Sales \\\r\n",
        "                                         GROUP BY SalesTerritoryKey\\\r\n",
        "                                         ORDER BY SalesTerritoryKey\").toPandas()\r\n",
        "\r\n",
        "# clear the plot area\r\n",
        "plt.clf()\r\n",
        "\r\n",
        "# create a figure\r\n",
        "figure = plt.figure(figsize=(12, 8))\r\n",
        "\r\n",
        "# create a bar plot of total sales by datalake\r\n",
        "plt.bar(x=totalOrdersByTerritory['SalesTerritoryKey'], height=totalOrdersByTerritory['TotalOrders'], color='magenta')\r\n",
        "\r\n",
        "# customize the chart\r\n",
        "plt.title('Order count by sales territory')\r\n",
        "plt.xlabel('Sales territory')\r\n",
        "plt.ylabel('Total number of orders')\r\n",
        "plt.grid(color='#95a5a6', linestyle='--')\r\n",
        "\r\n",
        "# show the plot area\r\n",
        "plt.show()"
      ]
    }
  ]
}